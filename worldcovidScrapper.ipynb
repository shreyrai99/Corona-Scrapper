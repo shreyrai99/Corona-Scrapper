{
  "nbformat": 4,
  "nbformat_minor": 0,
  "metadata": {
    "colab": {
      "name": "worldcovidScrapper.ipynb",
      "provenance": [],
      "authorship_tag": "ABX9TyOkKUYyy++QRZmBeUnI9GN0",
      "include_colab_link": true
    },
    "kernelspec": {
      "name": "python3",
      "display_name": "Python 3"
    }
  },
  "cells": [
    {
      "cell_type": "markdown",
      "metadata": {
        "id": "view-in-github",
        "colab_type": "text"
      },
      "source": [
        "<a href=\"https://colab.research.google.com/github/shreyrai99/ScrappingCOVID/blob/master/worldcovidScrapper.ipynb\" target=\"_parent\"><img src=\"https://colab.research.google.com/assets/colab-badge.svg\" alt=\"Open In Colab\"/></a>"
      ]
    },
    {
      "cell_type": "code",
      "metadata": {
        "id": "nXS_Gfq6DsuR",
        "colab_type": "code",
        "colab": {}
      },
      "source": [
        "import urllib\n",
        "from bs4 import BeautifulSoup\n",
        "import requests"
      ],
      "execution_count": 0,
      "outputs": []
    },
    {
      "cell_type": "code",
      "metadata": {
        "id": "FG-Rx95wEdUU",
        "colab_type": "code",
        "colab": {}
      },
      "source": [
        "url = \"https://www.worldometers.info/coronavirus/\""
      ],
      "execution_count": 0,
      "outputs": []
    },
    {
      "cell_type": "code",
      "metadata": {
        "id": "BTb3b9OREmh6",
        "colab_type": "code",
        "colab": {}
      },
      "source": [
        "req = requests.get(url)"
      ],
      "execution_count": 0,
      "outputs": []
    },
    {
      "cell_type": "code",
      "metadata": {
        "id": "lcZGvMWIEtvT",
        "colab_type": "code",
        "colab": {}
      },
      "source": [
        "soup = BeautifulSoup(req.text,\"html.parser\")"
      ],
      "execution_count": 0,
      "outputs": []
    },
    {
      "cell_type": "code",
      "metadata": {
        "id": "F2nCr3DmF6En",
        "colab_type": "code",
        "colab": {}
      },
      "source": [
        "data = soup.find_all(\"div\",class_ = \"maincounter-number\")"
      ],
      "execution_count": 0,
      "outputs": []
    },
    {
      "cell_type": "code",
      "metadata": {
        "id": "EuO_a6mhGuSP",
        "colab_type": "code",
        "colab": {
          "base_uri": "https://localhost:8080/",
          "height": 69
        },
        "outputId": "25f4713e-1c06-47f9-8e0b-3af1ea702188"
      },
      "source": [
        "case = data[0].text.strip()\n",
        "death = data[1].text.strip()\n",
        "recover = data[2].text.strip()\n",
        "print(f\"The total cases = {case}\")\n",
        "print(f\"The total deaths = {death}\")\n",
        "print(f\"The total recovered = {recover}\")"
      ],
      "execution_count": 20,
      "outputs": [
        {
          "output_type": "stream",
          "text": [
            "The total cases = 6,747,692\n",
            "The total deaths = 394,335\n",
            "The total recovered = 3,277,057\n"
          ],
          "name": "stdout"
        }
      ]
    }
  ]
}