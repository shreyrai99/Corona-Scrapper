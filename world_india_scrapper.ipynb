{
  "nbformat": 4,
  "nbformat_minor": 0,
  "metadata": {
    "colab": {
      "name": "world_india_scrapper.ipynb",
      "provenance": [],
      "authorship_tag": "ABX9TyPhE7g+li4z8oCu6hCtBXCZ",
      "include_colab_link": true
    },
    "kernelspec": {
      "name": "python3",
      "display_name": "Python 3"
    }
  },
  "cells": [
    {
      "cell_type": "markdown",
      "metadata": {
        "id": "view-in-github",
        "colab_type": "text"
      },
      "source": [
        "<a href=\"https://colab.research.google.com/github/shreyrai99/ScrappingCOVID/blob/master/world_india_scrapper.ipynb\" target=\"_parent\"><img src=\"https://colab.research.google.com/assets/colab-badge.svg\" alt=\"Open In Colab\"/></a>"
      ]
    },
    {
      "cell_type": "code",
      "metadata": {
        "id": "ysvjD4iNMOoz",
        "colab_type": "code",
        "colab": {
          "base_uri": "https://localhost:8080/",
          "height": 191
        },
        "outputId": "57b12b17-1a8d-4f27-ce37-90df764316bf"
      },
      "source": [
        "import urllib\n",
        "from bs4 import BeautifulSoup\n",
        "import requests\n",
        "\n",
        "#For World\n",
        "url1 = \"https://www.worldometers.info/coronavirus/\"\n",
        "req1 = requests.get(url1)\n",
        "soup1 = BeautifulSoup(req1.text,\"html.parser\")\n",
        "data1 = soup1.find_all(\"div\",class_ = \"maincounter-number\")\n",
        "case1 = data1[0].text.strip()\n",
        "death1 = data1[1].text.strip()\n",
        "recover1 = data1[2].text.strip()\n",
        "print(\"------World Corona Data-------\")\n",
        "print(f\"Total cases = {case1}\")\n",
        "print(f\"Total deaths = {death1}\")\n",
        "print(f\"Total recovered patients = {recover1}\")\n",
        "print(\"\\n\")\n",
        "#For India\n",
        "url2 = \"https://www.worldometers.info/coronavirus/country/india/\"\n",
        "req2 = requests.get(url2)\n",
        "soup2 = BeautifulSoup(req2.text,\"html.parser\")\n",
        "data2 = soup2.find_all(\"div\",class_ = \"maincounter-number\")\n",
        "case2 = data2[0].text.strip()\n",
        "death2 = data2[1].text.strip()\n",
        "recover2 = data2[2].text.strip()\n",
        "print(\"------India Corona Data-------\")\n",
        "print(f\"Total cases = {case2}\")\n",
        "print(f\"Total deaths = {death2}\")\n",
        "print(f\"Total recovered patients = {recover2}\")\n",
        "\n"
      ],
      "execution_count": 1,
      "outputs": [
        {
          "output_type": "stream",
          "text": [
            "------World Corona Data-------\n",
            "Total cases = 6,749,512\n",
            "Total deaths = 394,543\n",
            "Total recovered patients = 3,277,612\n",
            "\n",
            "\n",
            "------India Corona Data-------\n",
            "Total cases = 234,163\n",
            "Total deaths = 6,588\n",
            "Total recovered patients = 112,340\n"
          ],
          "name": "stdout"
        }
      ]
    }
  ]
}