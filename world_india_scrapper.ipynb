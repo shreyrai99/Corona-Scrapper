{
  "nbformat": 4,
  "nbformat_minor": 0,
  "metadata": {
    "colab": {
      "name": "world_india_scrapper.ipynb",
      "provenance": [],
      "authorship_tag": "ABX9TyM7hyJYU0DUxkB/8hfZT1S8",
      "include_colab_link": true
    },
    "kernelspec": {
      "name": "python3",
      "display_name": "Python 3"
    }
  },
  "cells": [
    {
      "cell_type": "markdown",
      "metadata": {
        "id": "view-in-github",
        "colab_type": "text"
      },
      "source": [
        "<a href=\"https://colab.research.google.com/github/shreyrai99/ScrappingCOVID/blob/master/world_india_scrapper.ipynb\" target=\"_parent\"><img src=\"https://colab.research.google.com/assets/colab-badge.svg\" alt=\"Open In Colab\"/></a>"
      ]
    },
    {
      "cell_type": "code",
      "metadata": {
        "id": "ysvjD4iNMOoz",
        "colab_type": "code",
        "colab": {}
      },
      "source": [
        "import urllib\n",
        "from bs4 import BeautifulSoup\n",
        "import requests"
      ],
      "execution_count": 0,
      "outputs": []
    },
    {
      "cell_type": "code",
      "metadata": {
        "id": "BpelCcNMM2J1",
        "colab_type": "code",
        "colab": {
          "base_uri": "https://localhost:8080/",
          "height": 87
        },
        "outputId": "f470c94c-f82b-4e03-d35c-2030a09625e7"
      },
      "source": [
        "#For World\n",
        "url1 = \"https://www.worldometers.info/coronavirus/\"\n",
        "req1 = requests.get(url1)\n",
        "soup1 = BeautifulSoup(req1.text,\"html.parser\")\n",
        "data1 = soup1.find_all(\"div\",class_ = \"maincounter-number\")\n",
        "case1 = data1[0].text.strip()\n",
        "death1 = data1[1].text.strip()\n",
        "recover1 = data1[2].text.strip()\n",
        "print(\"------World Corona Data-------\")\n",
        "print(f\"Total cases = {case1}\")\n",
        "print(f\"Total deaths = {death1}\")\n",
        "print(f\"Total recovered patients = {recover1}\")"
      ],
      "execution_count": 4,
      "outputs": [
        {
          "output_type": "stream",
          "text": [
            "------World Corona Data-------\n",
            "Total cases = 6,749,616\n",
            "Total deaths = 394,552\n",
            "Total recovered patients = 3,277,768\n"
          ],
          "name": "stdout"
        }
      ]
    },
    {
      "cell_type": "code",
      "metadata": {
        "id": "AdFtRuAwM7Cl",
        "colab_type": "code",
        "colab": {
          "base_uri": "https://localhost:8080/",
          "height": 87
        },
        "outputId": "b0ed3002-9bef-4d38-f815-dad20e822af3"
      },
      "source": [
        "#For India\n",
        "url2 = \"https://www.worldometers.info/coronavirus/country/india/\"\n",
        "req2 = requests.get(url2)\n",
        "soup2 = BeautifulSoup(req2.text,\"html.parser\")\n",
        "data2 = soup2.find_all(\"div\",class_ = \"maincounter-number\")\n",
        "case2 = data2[0].text.strip()\n",
        "death2 = data2[1].text.strip()\n",
        "recover2 = data2[2].text.strip()\n",
        "print(\"------India Corona Data-------\")\n",
        "print(f\"Total cases = {case2}\")\n",
        "print(f\"Total deaths = {death2}\")\n",
        "print(f\"Total recovered patients = {recover2}\")"
      ],
      "execution_count": 5,
      "outputs": [
        {
          "output_type": "stream",
          "text": [
            "------India Corona Data-------\n",
            "Total cases = 234,163\n",
            "Total deaths = 6,588\n",
            "Total recovered patients = 112,340\n"
          ],
          "name": "stdout"
        }
      ]
    },
    {
      "cell_type": "code",
      "metadata": {
        "id": "7pCMpMrLMzTC",
        "colab_type": "code",
        "colab": {}
      },
      "source": [
        ""
      ],
      "execution_count": 0,
      "outputs": []
    }
  ]
}