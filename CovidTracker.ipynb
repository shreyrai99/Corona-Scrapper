{
  "nbformat": 4,
  "nbformat_minor": 0,
  "metadata": {
    "colab": {
      "name": "CovidTracker.ipynb",
      "provenance": [],
      "authorship_tag": "ABX9TyOmQo+P4RkSPbnDFW8oYFSU",
      "include_colab_link": true
    },
    "kernelspec": {
      "name": "python3",
      "display_name": "Python 3"
    }
  },
  "cells": [
    {
      "cell_type": "markdown",
      "metadata": {
        "id": "view-in-github",
        "colab_type": "text"
      },
      "source": [
        "<a href=\"https://colab.research.google.com/github/shreyrai99/ScrappingCOVID/blob/master/CovidTracker.ipynb\" target=\"_parent\"><img src=\"https://colab.research.google.com/assets/colab-badge.svg\" alt=\"Open In Colab\"/></a>"
      ]
    },
    {
      "cell_type": "code",
      "metadata": {
        "id": "8oYin_E9Tfr2",
        "colab_type": "code",
        "colab": {}
      },
      "source": [
        "import pandas as pd\n",
        "import seaborn as sns\n",
        "import matplotlib.pyplot as plt\n",
        "import requests\n",
        "from bs4 import BeautifulSoup\n",
        "from prettytable import PrettyTable"
      ],
      "execution_count": 0,
      "outputs": []
    },
    {
      "cell_type": "code",
      "metadata": {
        "id": "VklXVs8tTyIc",
        "colab_type": "code",
        "colab": {}
      },
      "source": [
        "url = 'https://www.mohfw.gov.in/'\n",
        "# make a GET request to fetch the raw HTML content\n",
        "web_content = requests.get(url).content"
      ],
      "execution_count": 0,
      "outputs": []
    },
    {
      "cell_type": "code",
      "metadata": {
        "id": "dF1jen7-T0Da",
        "colab_type": "code",
        "colab": {}
      },
      "source": [
        "soup = BeautifulSoup(web_content, \"html.parser\")"
      ],
      "execution_count": 0,
      "outputs": []
    },
    {
      "cell_type": "code",
      "metadata": {
        "id": "SJyi64P4T3Ec",
        "colab_type": "code",
        "colab": {
          "base_uri": "https://localhost:8080/",
          "height": 202
        },
        "outputId": "7be33e36-d113-4441-9b5c-64214db18a02"
      },
      "source": [
        "# remove any newlines and extra spaces from left and right\n",
        "extract_contents = lambda row: [x.text.replace('\\n', '') for x in row]\n",
        "# find all table rows and data cells within\n",
        "stats = [] \n",
        "all_rows = soup.find_all('tr')\n",
        "for row in all_rows:\n",
        "    stat = extract_contents(row.find_all('td')) \n",
        "# notice that the data that we require is now a list of length 5\n",
        "    if len(stat) == 5:\n",
        "        stats.append(stat)\n",
        "#now convert the data into a pandas dataframe for further processing\n",
        "new_cols = [\"Sr.No\", \"States/UT\",\"Confirmed\",\"Recovered\",\"Deceased\"]\n",
        "state_data = pd.DataFrame(data = stats, columns = new_cols)\n",
        "state_data.head()"
      ],
      "execution_count": 7,
      "outputs": [
        {
          "output_type": "execute_result",
          "data": {
            "text/html": [
              "<div>\n",
              "<style scoped>\n",
              "    .dataframe tbody tr th:only-of-type {\n",
              "        vertical-align: middle;\n",
              "    }\n",
              "\n",
              "    .dataframe tbody tr th {\n",
              "        vertical-align: top;\n",
              "    }\n",
              "\n",
              "    .dataframe thead th {\n",
              "        text-align: right;\n",
              "    }\n",
              "</style>\n",
              "<table border=\"1\" class=\"dataframe\">\n",
              "  <thead>\n",
              "    <tr style=\"text-align: right;\">\n",
              "      <th></th>\n",
              "      <th>Sr.No</th>\n",
              "      <th>States/UT</th>\n",
              "      <th>Confirmed</th>\n",
              "      <th>Recovered</th>\n",
              "      <th>Deceased</th>\n",
              "    </tr>\n",
              "  </thead>\n",
              "  <tbody>\n",
              "    <tr>\n",
              "      <th>0</th>\n",
              "      <td>1</td>\n",
              "      <td>Andhra Pradesh</td>\n",
              "      <td>348</td>\n",
              "      <td>6</td>\n",
              "      <td>4</td>\n",
              "    </tr>\n",
              "    <tr>\n",
              "      <th>1</th>\n",
              "      <td>2</td>\n",
              "      <td>Andaman and Nicobar Islands</td>\n",
              "      <td>11</td>\n",
              "      <td>0</td>\n",
              "      <td>0</td>\n",
              "    </tr>\n",
              "    <tr>\n",
              "      <th>2</th>\n",
              "      <td>3</td>\n",
              "      <td>Arunachal Pradesh</td>\n",
              "      <td>1</td>\n",
              "      <td>0</td>\n",
              "      <td>0</td>\n",
              "    </tr>\n",
              "    <tr>\n",
              "      <th>3</th>\n",
              "      <td>4</td>\n",
              "      <td>Assam</td>\n",
              "      <td>29</td>\n",
              "      <td>0</td>\n",
              "      <td>0</td>\n",
              "    </tr>\n",
              "    <tr>\n",
              "      <th>4</th>\n",
              "      <td>5</td>\n",
              "      <td>Bihar</td>\n",
              "      <td>39</td>\n",
              "      <td>0</td>\n",
              "      <td>1</td>\n",
              "    </tr>\n",
              "  </tbody>\n",
              "</table>\n",
              "</div>"
            ],
            "text/plain": [
              "  Sr.No                    States/UT Confirmed Recovered Deceased\n",
              "0     1               Andhra Pradesh       348         6        4\n",
              "1     2  Andaman and Nicobar Islands        11         0        0\n",
              "2     3            Arunachal Pradesh         1         0        0\n",
              "3     4                        Assam        29         0        0\n",
              "4     5                        Bihar        39         0        1"
            ]
          },
          "metadata": {
            "tags": []
          },
          "execution_count": 7
        }
      ]
    },
    {
      "cell_type": "code",
      "metadata": {
        "id": "ebstHJ9cWvEa",
        "colab_type": "code",
        "colab": {}
      },
      "source": [
        "state_data[\"Confirmed\"] = state_data[\"Confirmed\"].map(int)\n",
        "state_data[\"Recovered\"] = state_data[\"Recovered\"].map(int)\n",
        "state_data[\"Deceased\"] = state_data[\"Deceased\"].map(int)"
      ],
      "execution_count": 0,
      "outputs": []
    },
    {
      "cell_type": "code",
      "metadata": {
        "id": "5_JFmGjMXHO6",
        "colab_type": "code",
        "colab": {
          "base_uri": "https://localhost:8080/",
          "height": 641
        },
        "outputId": "6281adcb-5de7-4a01-ecc0-bb31c835eb5f"
      },
      "source": [
        "table = PrettyTable()\n",
        "table.field_names = (new_cols)\n",
        "for i in stats:\n",
        "    table.add_row(i)\n",
        "table.add_row([\"\",\"Total\",\n",
        "               sum(state_data[\"Confirmed\"]), \n",
        "               sum(state_data[\"Recovered\"]),\n",
        "               sum(state_data[\"Deceased\"])])\n",
        "print(table)"
      ],
      "execution_count": 10,
      "outputs": [
        {
          "output_type": "stream",
          "text": [
            "+-------+-----------------------------+-----------+-----------+----------+\n",
            "| Sr.No |          States/UT          | Confirmed | Recovered | Deceased |\n",
            "+-------+-----------------------------+-----------+-----------+----------+\n",
            "|   1   |        Andhra Pradesh       |    348    |     6     |    4     |\n",
            "|   2   | Andaman and Nicobar Islands |     11    |     0     |    0     |\n",
            "|   3   |      Arunachal Pradesh      |     1     |     0     |    0     |\n",
            "|   4   |            Assam            |     29    |     0     |    0     |\n",
            "|   5   |            Bihar            |     39    |     0     |    1     |\n",
            "|   6   |          Chandigarh         |     18    |     7     |    0     |\n",
            "|   7   |         Chhattisgarh        |     10    |     9     |    0     |\n",
            "|   8   |            Delhi            |    720    |     25    |    12    |\n",
            "|   9   |             Goa             |     7     |     0     |    0     |\n",
            "|   10  |           Gujarat           |    241    |     26    |    17    |\n",
            "|   11  |           Haryana           |    169    |     29    |    3     |\n",
            "|   12  |       Himachal Pradesh      |     18    |     2     |    1     |\n",
            "|   13  |      Jammu and Kashmir      |    158    |     4     |    4     |\n",
            "|   14  |          Jharkhand          |     13    |     0     |    1     |\n",
            "|   15  |          Karnataka          |    181    |     28    |    5     |\n",
            "|   16  |            Kerala           |    357    |     96    |    2     |\n",
            "|   17  |            Ladakh           |     15    |     10    |    0     |\n",
            "|   18  |        Madhya Pradesh       |    259    |     0     |    16    |\n",
            "|   19  |         Maharashtra         |    1364   |    125    |    97    |\n",
            "|   20  |           Manipur           |     2     |     1     |    0     |\n",
            "|   21  |           Mizoram           |     1     |     0     |    0     |\n",
            "|   22  |            Odisha           |     44    |     2     |    1     |\n",
            "|   23  |          Puducherry         |     5     |     1     |    0     |\n",
            "|   24  |            Punjab           |    101    |     4     |    8     |\n",
            "|   25  |          Rajasthan          |    463    |     21    |    3     |\n",
            "|   26  |          Tamil Nadu         |    834    |     21    |    8     |\n",
            "|   27  |          Telengana          |    442    |     35    |    7     |\n",
            "|   28  |           Tripura           |     1     |     0     |    0     |\n",
            "|   29  |         Uttarakhand         |     35    |     5     |    0     |\n",
            "|   30  |        Uttar Pradesh        |    410    |     31    |    4     |\n",
            "|   31  |         West Bengal         |    116    |     16    |    5     |\n",
            "|       |            Total            |    6412   |    504    |   199    |\n",
            "+-------+-----------------------------+-----------+-----------+----------+\n"
          ],
          "name": "stdout"
        }
      ]
    },
    {
      "cell_type": "code",
      "metadata": {
        "id": "q0wSCuf9ZYN3",
        "colab_type": "code",
        "colab": {
          "base_uri": "https://localhost:8080/",
          "height": 324
        },
        "outputId": "05a95d5e-769a-42a4-a3e2-252347e37c42"
      },
      "source": [
        "group_size = [sum(state_data['Confirmed']),\n",
        "              sum(state_data['Recovered']),\n",
        "              sum(state_data['Deceased'])]\n",
        "group_labels = ['Confirmed\\n' + str(sum(state_data['Confirmed'])),\n",
        "                'Recovered\\n' + str(sum(state_data['Recovered'])),\n",
        "                'Deceased\\n' + str(sum(state_data['Deceased']))]\n",
        "custom_colors = ['skyblue','yellowgreen','tomato']\n",
        "plt.figure(figsize = (5,5))\n",
        "plt.pie(group_size, labels = group_labels, colors = custom_colors)\n",
        "central_circle = plt.Circle((0,0), 0.5, color = 'white')\n",
        "fig = plt.gcf()\n",
        "fig.gca().add_artist(central_circle)\n",
        "plt.rc('font', size = 12)\n",
        "plt.title('Nationwide total Confirmed, Recovered and Deceased Cases', fontsize = 20)\n",
        "plt.show()"
      ],
      "execution_count": 12,
      "outputs": [
        {
          "output_type": "display_data",
          "data": {
            "image/png": "[encoded data removed]",
            "text/plain": [
              "<Figure size 360x360 with 1 Axes>"
            ]
          },
          "metadata": {
            "tags": []
          }
        }
      ]
    }
  ]
}